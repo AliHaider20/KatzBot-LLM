{
  "cells": [
    {
      "cell_type": "code",
      "execution_count": null,
      "metadata": {
        "colab": {
          "base_uri": "https://localhost:8080/"
        },
        "id": "9sK4M-Fwh_4z",
        "outputId": "d2ec8956-250c-48b3-ba1a-b98aef35df28"
      },
      "outputs": [],
      "source": [
        "# ! pip install -U langchain tiktoken pypdf faiss-gpu -q\n",
        "# ! pip install -U transformers InstructorEmbedding sentence_transformers -q\n",
        "# ! pip install -U accelerate bitsandbytes xformers einops -q\n",
        "# !pip install auto-gptq optimum -q\n",
        "\n",
        "import warnings\n",
        "\n",
        "import os\n",
        "import glob\n",
        "import textwrap\n",
        "import time\n",
        "\n",
        "import langchain\n",
        "from langchain.document_loaders import PyPDFLoader\n",
        "from langchain.document_loaders import DirectoryLoader\n",
        "from langchain.text_splitter import RecursiveCharacterTextSplitter\n",
        "from langchain import PromptTemplate, LLMChain\n",
        "from langchain.vectorstores import FAISS\n",
        "from langchain.llms import HuggingFacePipeline\n",
        "from InstructorEmbedding import INSTRUCTOR  \n",
        "from langchain_community.embeddings import HuggingFaceEmbeddings\n",
        "from langchain.chains import RetrievalQA\n",
        "\n",
        "import torch\n",
        "import transformers\n",
        "from transformers import AutoTokenizer, AutoModelForCausalLM, pipeline\n",
        "\n",
        "print('LangChain:', langchain.__version__)"
      ]
    },
    {
      "cell_type": "code",
      "execution_count": null,
      "metadata": {
        "id": "jQa_bIYokPkN"
      },
      "outputs": [],
      "source": [
        "class CFG:\n",
        "    # LLMs\n",
        "    model_id = 'codegood/Mistral_Latest' #'llama2-13b' # wizardlm, bloom, falcon, llama2-7b, llama2-13b\n",
        "    temperature = 0,\n",
        "    top_p = 0.95,\n",
        "    repetition_penalty = 1.15\n",
        "\n",
        "    # splitting\n",
        "    split_chunk_size = 800\n",
        "    split_overlap = 0\n",
        "\n",
        "    # embeddings\n",
        "    embeddings_model_id = 'sentence-transformers/all-MiniLM-L6-v2'\n",
        "\n",
        "    # similar passages\n",
        "    k = 1\n",
        "\n",
        "config = CFG()"
      ]
    },
    {
      "cell_type": "code",
      "execution_count": null,
      "metadata": {
        "colab": {
          "base_uri": "https://localhost:8080/",
          "height": 81,
          "referenced_widgets": [
            "56c7ced8fc07422183e7d47a51a97c8f",
            "878ff8bf202b4453a8a3e14a0fdd9d9a",
            "e1b53ca0ce22484eaca68fea4bed2e79",
            "a8ec8d99fe164f09aca00b6279e530b2",
            "8016bb09cdbd4079ab10c23fd3552ba4",
            "2390e9b1076342bd9ded4bdc9ca7a7e0",
            "d54cc98aa3754403aa107e59b4d36d79",
            "0c608f80210f4395bd567526d7a2c4cd",
            "d9848c662a14486ab41cf2d3bfe0f71f",
            "b3cfc19280204c618567a5d53a9e0c2a",
            "ab0581964e514cf089ebb39bd6682698",
            "f263aaf302ab473cbc92906a2f21a13d",
            "342fc79fd4a448f2821ffbdea4c0f910",
            "aeff00666de84d138260d96811418d09",
            "6598c796e3f744d3b4355886e67cbfda",
            "fcd7a6f57f3748fdb443123abe69f3d5",
            "eef5c12738024686888c8c100f9480c8",
            "c4060959e83c4d419b6890a0465d63dd",
            "34e48eaa77574050aa0aecf24d996190",
            "9d31219cf6e8400799ee0bce257de993",
            "38a18633fcdf426d93a0c95271334727",
            "2d9f04fd74004c7896f1cc80f0453dfd"
          ]
        },
        "id": "fPFW8H5klLev",
        "outputId": "e3f936a8-dc38-42f3-a298-18a9da070739"
      },
      "outputs": [],
      "source": [
        "%%time\n",
        "\n",
        "from transformers import BitsAndBytesConfig\n",
        "\n",
        "tokenizer = AutoTokenizer.from_pretrained(config.model_id, use_fast=True)\n",
        "bnb_config = BitsAndBytesConfig(\n",
        "    load_in_4bit= True,\n",
        "    bnb_4bit_quant_type= \"nf4\",\n",
        "    bnb_4bit_compute_dtype= torch.bfloat16,\n",
        "    bnb_4bit_use_double_quant= True,\n",
        ")\n",
        "\n",
        "model = AutoModelForCausalLM.from_pretrained(\n",
        "    config.model_id,\n",
        "    load_in_4bit=True,\n",
        "    device_map='auto',\n",
        "    quantization_config=bnb_config,\n",
        "    torch_dtype=torch.float16,\n",
        "    # low_cpu_mem_usage=True,\n",
        "    trust_remote_code=True\n",
        ")\n",
        "max_len = 256"
      ]
    },
    {
      "cell_type": "code",
      "execution_count": null,
      "metadata": {
        "colab": {
          "base_uri": "https://localhost:8080/",
          "height": 245
        },
        "id": "Ptg34kF2o-Es",
        "outputId": "e9fc858b-805e-4e45-beb1-a6b3367cf7cd"
      },
      "outputs": [],
      "source": [
        "pipe = pipeline(\n",
        "    task = \"text-generation\",\n",
        "    model = model,\n",
        "    tokenizer = tokenizer,\n",
        "    pad_token_id = tokenizer.eos_token_id,\n",
        "    max_length = max_len,\n",
        "    temperature = 0.25,\n",
        "    #temperature = CFG.temperature,\n",
        "    top_p = 0.9,\n",
        "    #top_p = CFG.top_p,\n",
        "    repetition_penalty = CFG.repetition_penalty\n",
        ")\n",
        "\n",
        "llm = HuggingFacePipeline(pipeline = pipe, batch_size=6)\n",
        "\n",
        "#Test model\n",
        "llm(\"<s>[INST]Where is Yeshiva university Beren campus located?[/INST]\")"
      ]
    },
    {
      "cell_type": "markdown",
      "metadata": {
        "id": "o0rrvrXu9IvK"
      },
      "source": [
        "# Creating Vector DB"
      ]
    },
    {
      "cell_type": "code",
      "execution_count": null,
      "metadata": {
        "colab": {
          "base_uri": "https://localhost:8080/"
        },
        "id": "E_5fSbxQJLZI",
        "outputId": "0e0778ef-7c17-4a1b-d920-d70e1ae75aa2"
      },
      "outputs": [],
      "source": [
        "from langchain_community.document_loaders import TextLoader\n",
        "import glob\n",
        "\n",
        "# Update the directory path\n",
        "Texts_path = \"/content/drive/MyDrive/Fall 2023/Data/Data Text Files/Text files/*.txt\"\n",
        "\n",
        "# Use glob to get a list of all .txt files in the directory\n",
        "text_files = glob.glob(Texts_path)\n",
        "\n",
        "# Check if any text files were found\n",
        "if not text_files:\n",
        "    print(\"No text files found in the specified directory.\")\n",
        "else:\n",
        "    # Initialize an empty list to store loaded documents\n",
        "    documents = []\n",
        "\n",
        "    # Iterate through each text file and load its content\n",
        "    for file_path in text_files:\n",
        "        try:\n",
        "            text_loader = TextLoader(file_path)\n",
        "            document = text_loader.load()\n",
        "            documents.append(document)\n",
        "        except Exception as e:\n",
        "            print(f\"Error loading {file_path}: {str(e)}\")\n",
        "\n",
        "    # Now, 'documents' contains the loaded content of all text files\n",
        "    print(\"Documents loaded successfully.\")\n",
        "print(f'We have {len(documents)} files in total')"
      ]
    },
    {
      "cell_type": "code",
      "execution_count": null,
      "metadata": {
        "colab": {
          "base_uri": "https://localhost:8080/"
        },
        "id": "dPuTQiDHKMUO",
        "outputId": "11240002-fdd6-44ed-ec48-e48fb2cd776d"
      },
      "outputs": [],
      "source": [
        "text_splitter = RecursiveCharacterTextSplitter(\n",
        "    chunk_size=CFG.split_chunk_size,\n",
        "    chunk_overlap=CFG.split_overlap\n",
        ")\n",
        "\n",
        "texts = text_splitter.split_documents([doc[0] for doc in documents])\n",
        "\n",
        "print(f'We have created {len(texts)} chunks from {len(documents)} documents')"
      ]
    },
    {
      "cell_type": "code",
      "execution_count": null,
      "metadata": {
        "id": "VKFADzm72CaD"
      },
      "outputs": [],
      "source": [
        "%%time\n",
        "\n",
        "### download embeddings model\n",
        "embeddings = HuggingFaceEmbeddings(\n",
        "    model_name = CFG.embeddings_model_repo,\n",
        "    model_kwargs = {\"device\": \"cuda\"}\n",
        ")\n",
        "\n",
        "### create embeddings and DB\n",
        "vectordb = FAISS.from_documents(\n",
        "    documents = texts,\n",
        "    embedding = embeddings\n",
        ")\n",
        "\n",
        "### persist vector database\n",
        "vectordb.save_local(\"/content/drive/MyDrive/Fall 2023/Spring 2024 Katzbot/RAG/Haider_VDB\")\n"
      ]
    },
    {
      "cell_type": "markdown",
      "metadata": {
        "id": "tG2nzHqHzX_v"
      },
      "source": [
        "# Load Vector DB"
      ]
    },
    {
      "cell_type": "code",
      "execution_count": null,
      "metadata": {
        "id": "SHPCqOqdzbL_"
      },
      "outputs": [],
      "source": [
        "embeddings = HuggingFaceEmbeddings(\n",
        "    model_name = CFG.embedding_model_id,\n",
        "    model_kwargs = {\"device\": \"cuda\"},\n",
        "    encode_kwargs = {'normalize_embeddings': True}\n",
        ")\n",
        "\n",
        "# Load the vector database\n",
        "vectordb_loaded = FAISS.load_local(\n",
        "    \"/content/drive/MyDrive/Fall 2023/Spring 2024 Katzbot/RAG/Haider_VDB\",\n",
        "    embeddings\n",
        ")"
      ]
    },
    {
      "cell_type": "code",
      "execution_count": null,
      "metadata": {
        "id": "sY2E8_wP4o1K"
      },
      "outputs": [],
      "source": [
        "import pandas as pd\n",
        "prompt_template = \"\"\"\n",
        "Don't try to make up an answer, if you don't know just say that you don't know.\n",
        "Answer in the same language the question was asked.\n",
        "Use the following context to answer the question at the end.\n",
        "\n",
        "{context}\n",
        "\n",
        "Question: {question}\n",
        "Answer:\"\"\"\n",
        "\n",
        "\n",
        "PROMPT = PromptTemplate(\n",
        "    template = prompt_template,\n",
        "    input_variables = [\"context\", \"question\"]\n",
        ")\n",
        "\n",
        "test = pd.read_csv(\"/content/drive/MyDrive/Fall 2023/Data/Test dataset/test_data.csv\")"
      ]
    },
    {
      "cell_type": "code",
      "execution_count": null,
      "metadata": {
        "id": "HQaY-93521Iq"
      },
      "outputs": [],
      "source": [
        "# gpu_chain = PROMPT | llm.bind(stop=[\"\\n\\n\"])\n",
        "\n",
        "# questions = []\n",
        "# context = []\n",
        "# for question in test.question[:6]:\n",
        "#     context = vectordb_loaded.max_marginal_relevance_search(question, k = CFG.k)[0].page_content\n",
        "#     questions.append({\"context\": context, \"question\": question + \"[/INST]\"})"
      ]
    },
    {
      "cell_type": "code",
      "execution_count": null,
      "metadata": {
        "id": "3MJiNUwv5GxB"
      },
      "outputs": [],
      "source": [
        "# # %%time\n",
        "# answers = gpu_chain.batch(questions, verbose=True)\n",
        "# for answer in answers:\n",
        "#     print(answer)"
      ]
    },
    {
      "cell_type": "code",
      "execution_count": null,
      "metadata": {
        "id": "jfua4nwH437I"
      },
      "outputs": [],
      "source": [
        "retriever = vectordb_loaded.as_retriever(search_kwargs = {\"k\": CFG.k, \"search_type\" : \"similarity\"})\n",
        "\n",
        "qa_chain = RetrievalQA.from_chain_type(\n",
        "    llm = llm,\n",
        "    chain_type = \"stuff\", # map_reduce, map_rerank, stuff, refine\n",
        "    retriever = retriever,\n",
        "    chain_type_kwargs = {\"prompt\": PROMPT},\n",
        "    return_source_documents = True,\n",
        "    verbose = False\n",
        "\n",
        ")"
      ]
    },
    {
      "cell_type": "code",
      "execution_count": null,
      "metadata": {
        "colab": {
          "base_uri": "https://localhost:8080/"
        },
        "id": "yiJJB6ET5DkA",
        "outputId": "968346af-647e-4673-8c80-5d755cb8792d"
      },
      "outputs": [],
      "source": [
        "### testing MMR search\n",
        "question = \"What is the address of Yeshiva University Beren campus?[/INST]\"\n",
        "qa_chain(question)"
      ]
    },
    {
      "cell_type": "code",
      "execution_count": null,
      "metadata": {
        "colab": {
          "base_uri": "https://localhost:8080/"
        },
        "id": "SmkCQhg4hJOS",
        "outputId": "c69fb46d-191b-4a8c-abec-66d4a8a9aac7"
      },
      "outputs": [],
      "source": [
        "import pandas as pd\n",
        "from tqdm import tqdm\n",
        "\n",
        "responses = []\n",
        "for q in tqdm(test.question):\n",
        "  responses.append(qa_chain(q + \"[/INST]\")['result'].split(\"\\n\")[0])"
      ]
    },
    {
      "cell_type": "code",
      "execution_count": null,
      "metadata": {
        "id": "f9xo9MBLnU2h"
      },
      "outputs": [],
      "source": [
        "test['pred'] = responses\n",
        "test.to_csv(\"Mistral_GPTQ_RAG.csv\", index=False)"
      ]
    },
    {
      "cell_type": "code",
      "execution_count": null,
      "metadata": {
        "id": "x-KyV4B1MGFk"
      },
      "outputs": [],
      "source": [
        "!pip install vllm"
      ]
    },
    {
      "cell_type": "code",
      "execution_count": null,
      "metadata": {
        "id": "J11DHFt6L_gg"
      },
      "outputs": [],
      "source": [
        "from vllm import LLM, SamplingParams\n",
        "\n",
        "sampling_params = SamplingParams(temperature=0.2, top_p=0.95)\n",
        "llm = LLM(model=\"codegood/Mistral_Latest\", )\n",
        "outputs = llm.generate(test.question[:10], sampling_params)\n",
        "\n",
        "for output in outputs:\n",
        "    prompt = output.prompt\n",
        "    generated_text = output.outputs[0].text\n",
        "    print(f\"Prompt: {prompt!r}, Generated text: {generated_text!r}\")\n"
      ]
    },
    {
      "cell_type": "code",
      "execution_count": null,
      "metadata": {
        "colab": {
          "base_uri": "https://localhost:8080/"
        },
        "id": "RsOTPo0ftiAk",
        "outputId": "1e4cb557-6e32-4084-8963-65ad33ea831d"
      },
      "outputs": [],
      "source": [
        "from random import randint\n",
        "\n",
        "idx = randint(0, len(responses)-1)\n",
        "print(\"Question:\", test.question[idx])\n",
        "print(\"Response:\", responses[idx])\n",
        "print(\"---\"*10)\n",
        "print(\"Ground truth:\", test.answer[idx])"
      ]
    },
    {
      "cell_type": "code",
      "execution_count": null,
      "metadata": {
        "colab": {
          "base_uri": "https://localhost:8080/"
        },
        "id": "9bwUA73yupg8",
        "outputId": "dde0fbdd-6448-4908-ed3c-671e60a12d36"
      },
      "outputs": [],
      "source": [
        "from rouge import Rouge\n",
        "from tabulate import tabulate\n",
        "\n",
        "rouge = Rouge()\n",
        "\n",
        "scores = rouge.get_scores(test['answer'].to_list(), responses, avg=True)\n",
        "\n",
        "score_table = [{'Metric': metric, 'Precision': score['p'], 'Recall': score['r'], 'F1-Score': score['f']} for metric, score in scores.items()]\n",
        "\n",
        "print(tabulate(score_table, headers='keys', tablefmt='grid'))"
      ]
    }
  ],
  "metadata": {
    "colab": {
      "provenance": []
    },
    "kernelspec": {
      "display_name": "Python 3",
      "name": "python3"
    },
    "language_info": {
      "codemirror_mode": {
        "name": "ipython",
        "version": 3
      },
      "file_extension": ".py",
      "mimetype": "text/x-python",
      "name": "python",
      "nbconvert_exporter": "python",
      "pygments_lexer": "ipython3",
      "version": "3.11.7"
    },
    "widgets": {
      "application/vnd.jupyter.widget-state+json": {
        "0c608f80210f4395bd567526d7a2c4cd": {
          "model_module": "@jupyter-widgets/base",
          "model_module_version": "1.2.0",
          "model_name": "LayoutModel",
          "state": {
            "_model_module": "@jupyter-widgets/base",
            "_model_module_version": "1.2.0",
            "_model_name": "LayoutModel",
            "_view_count": null,
            "_view_module": "@jupyter-widgets/base",
            "_view_module_version": "1.2.0",
            "_view_name": "LayoutView",
            "align_content": null,
            "align_items": null,
            "align_self": null,
            "border": null,
            "bottom": null,
            "display": null,
            "flex": null,
            "flex_flow": null,
            "grid_area": null,
            "grid_auto_columns": null,
            "grid_auto_flow": null,
            "grid_auto_rows": null,
            "grid_column": null,
            "grid_gap": null,
            "grid_row": null,
            "grid_template_areas": null,
            "grid_template_columns": null,
            "grid_template_rows": null,
            "height": null,
            "justify_content": null,
            "justify_items": null,
            "left": null,
            "margin": null,
            "max_height": null,
            "max_width": null,
            "min_height": null,
            "min_width": null,
            "object_fit": null,
            "object_position": null,
            "order": null,
            "overflow": null,
            "overflow_x": null,
            "overflow_y": null,
            "padding": null,
            "right": null,
            "top": null,
            "visibility": null,
            "width": null
          }
        },
        "2390e9b1076342bd9ded4bdc9ca7a7e0": {
          "model_module": "@jupyter-widgets/base",
          "model_module_version": "1.2.0",
          "model_name": "LayoutModel",
          "state": {
            "_model_module": "@jupyter-widgets/base",
            "_model_module_version": "1.2.0",
            "_model_name": "LayoutModel",
            "_view_count": null,
            "_view_module": "@jupyter-widgets/base",
            "_view_module_version": "1.2.0",
            "_view_name": "LayoutView",
            "align_content": null,
            "align_items": null,
            "align_self": null,
            "border": null,
            "bottom": null,
            "display": null,
            "flex": null,
            "flex_flow": null,
            "grid_area": null,
            "grid_auto_columns": null,
            "grid_auto_flow": null,
            "grid_auto_rows": null,
            "grid_column": null,
            "grid_gap": null,
            "grid_row": null,
            "grid_template_areas": null,
            "grid_template_columns": null,
            "grid_template_rows": null,
            "height": null,
            "justify_content": null,
            "justify_items": null,
            "left": null,
            "margin": null,
            "max_height": null,
            "max_width": null,
            "min_height": null,
            "min_width": null,
            "object_fit": null,
            "object_position": null,
            "order": null,
            "overflow": null,
            "overflow_x": null,
            "overflow_y": null,
            "padding": null,
            "right": null,
            "top": null,
            "visibility": null,
            "width": null
          }
        },
        "2d9f04fd74004c7896f1cc80f0453dfd": {
          "model_module": "@jupyter-widgets/controls",
          "model_module_version": "1.5.0",
          "model_name": "DescriptionStyleModel",
          "state": {
            "_model_module": "@jupyter-widgets/controls",
            "_model_module_version": "1.5.0",
            "_model_name": "DescriptionStyleModel",
            "_view_count": null,
            "_view_module": "@jupyter-widgets/base",
            "_view_module_version": "1.2.0",
            "_view_name": "StyleView",
            "description_width": ""
          }
        },
        "342fc79fd4a448f2821ffbdea4c0f910": {
          "model_module": "@jupyter-widgets/controls",
          "model_module_version": "1.5.0",
          "model_name": "HTMLModel",
          "state": {
            "_dom_classes": [],
            "_model_module": "@jupyter-widgets/controls",
            "_model_module_version": "1.5.0",
            "_model_name": "HTMLModel",
            "_view_count": null,
            "_view_module": "@jupyter-widgets/controls",
            "_view_module_version": "1.5.0",
            "_view_name": "HTMLView",
            "description": "",
            "description_tooltip": null,
            "layout": "IPY_MODEL_eef5c12738024686888c8c100f9480c8",
            "placeholder": "​",
            "style": "IPY_MODEL_c4060959e83c4d419b6890a0465d63dd",
            "value": "Loading checkpoint shards:  12%"
          }
        },
        "34e48eaa77574050aa0aecf24d996190": {
          "model_module": "@jupyter-widgets/base",
          "model_module_version": "1.2.0",
          "model_name": "LayoutModel",
          "state": {
            "_model_module": "@jupyter-widgets/base",
            "_model_module_version": "1.2.0",
            "_model_name": "LayoutModel",
            "_view_count": null,
            "_view_module": "@jupyter-widgets/base",
            "_view_module_version": "1.2.0",
            "_view_name": "LayoutView",
            "align_content": null,
            "align_items": null,
            "align_self": null,
            "border": null,
            "bottom": null,
            "display": null,
            "flex": null,
            "flex_flow": null,
            "grid_area": null,
            "grid_auto_columns": null,
            "grid_auto_flow": null,
            "grid_auto_rows": null,
            "grid_column": null,
            "grid_gap": null,
            "grid_row": null,
            "grid_template_areas": null,
            "grid_template_columns": null,
            "grid_template_rows": null,
            "height": null,
            "justify_content": null,
            "justify_items": null,
            "left": null,
            "margin": null,
            "max_height": null,
            "max_width": null,
            "min_height": null,
            "min_width": null,
            "object_fit": null,
            "object_position": null,
            "order": null,
            "overflow": null,
            "overflow_x": null,
            "overflow_y": null,
            "padding": null,
            "right": null,
            "top": null,
            "visibility": null,
            "width": null
          }
        },
        "38a18633fcdf426d93a0c95271334727": {
          "model_module": "@jupyter-widgets/base",
          "model_module_version": "1.2.0",
          "model_name": "LayoutModel",
          "state": {
            "_model_module": "@jupyter-widgets/base",
            "_model_module_version": "1.2.0",
            "_model_name": "LayoutModel",
            "_view_count": null,
            "_view_module": "@jupyter-widgets/base",
            "_view_module_version": "1.2.0",
            "_view_name": "LayoutView",
            "align_content": null,
            "align_items": null,
            "align_self": null,
            "border": null,
            "bottom": null,
            "display": null,
            "flex": null,
            "flex_flow": null,
            "grid_area": null,
            "grid_auto_columns": null,
            "grid_auto_flow": null,
            "grid_auto_rows": null,
            "grid_column": null,
            "grid_gap": null,
            "grid_row": null,
            "grid_template_areas": null,
            "grid_template_columns": null,
            "grid_template_rows": null,
            "height": null,
            "justify_content": null,
            "justify_items": null,
            "left": null,
            "margin": null,
            "max_height": null,
            "max_width": null,
            "min_height": null,
            "min_width": null,
            "object_fit": null,
            "object_position": null,
            "order": null,
            "overflow": null,
            "overflow_x": null,
            "overflow_y": null,
            "padding": null,
            "right": null,
            "top": null,
            "visibility": null,
            "width": null
          }
        },
        "56c7ced8fc07422183e7d47a51a97c8f": {
          "model_module": "@jupyter-widgets/controls",
          "model_module_version": "1.5.0",
          "model_name": "HBoxModel",
          "state": {
            "_dom_classes": [],
            "_model_module": "@jupyter-widgets/controls",
            "_model_module_version": "1.5.0",
            "_model_name": "HBoxModel",
            "_view_count": null,
            "_view_module": "@jupyter-widgets/controls",
            "_view_module_version": "1.5.0",
            "_view_name": "HBoxView",
            "box_style": "",
            "children": [
              "IPY_MODEL_878ff8bf202b4453a8a3e14a0fdd9d9a",
              "IPY_MODEL_e1b53ca0ce22484eaca68fea4bed2e79",
              "IPY_MODEL_a8ec8d99fe164f09aca00b6279e530b2"
            ],
            "layout": "IPY_MODEL_8016bb09cdbd4079ab10c23fd3552ba4"
          }
        },
        "6598c796e3f744d3b4355886e67cbfda": {
          "model_module": "@jupyter-widgets/controls",
          "model_module_version": "1.5.0",
          "model_name": "HTMLModel",
          "state": {
            "_dom_classes": [],
            "_model_module": "@jupyter-widgets/controls",
            "_model_module_version": "1.5.0",
            "_model_name": "HTMLModel",
            "_view_count": null,
            "_view_module": "@jupyter-widgets/controls",
            "_view_module_version": "1.5.0",
            "_view_name": "HTMLView",
            "description": "",
            "description_tooltip": null,
            "layout": "IPY_MODEL_38a18633fcdf426d93a0c95271334727",
            "placeholder": "​",
            "style": "IPY_MODEL_2d9f04fd74004c7896f1cc80f0453dfd",
            "value": " 1/8 [00:09&lt;01:03,  9.12s/it]"
          }
        },
        "8016bb09cdbd4079ab10c23fd3552ba4": {
          "model_module": "@jupyter-widgets/base",
          "model_module_version": "1.2.0",
          "model_name": "LayoutModel",
          "state": {
            "_model_module": "@jupyter-widgets/base",
            "_model_module_version": "1.2.0",
            "_model_name": "LayoutModel",
            "_view_count": null,
            "_view_module": "@jupyter-widgets/base",
            "_view_module_version": "1.2.0",
            "_view_name": "LayoutView",
            "align_content": null,
            "align_items": null,
            "align_self": null,
            "border": null,
            "bottom": null,
            "display": null,
            "flex": null,
            "flex_flow": null,
            "grid_area": null,
            "grid_auto_columns": null,
            "grid_auto_flow": null,
            "grid_auto_rows": null,
            "grid_column": null,
            "grid_gap": null,
            "grid_row": null,
            "grid_template_areas": null,
            "grid_template_columns": null,
            "grid_template_rows": null,
            "height": null,
            "justify_content": null,
            "justify_items": null,
            "left": null,
            "margin": null,
            "max_height": null,
            "max_width": null,
            "min_height": null,
            "min_width": null,
            "object_fit": null,
            "object_position": null,
            "order": null,
            "overflow": null,
            "overflow_x": null,
            "overflow_y": null,
            "padding": null,
            "right": null,
            "top": null,
            "visibility": null,
            "width": null
          }
        },
        "878ff8bf202b4453a8a3e14a0fdd9d9a": {
          "model_module": "@jupyter-widgets/controls",
          "model_module_version": "1.5.0",
          "model_name": "HTMLModel",
          "state": {
            "_dom_classes": [],
            "_model_module": "@jupyter-widgets/controls",
            "_model_module_version": "1.5.0",
            "_model_name": "HTMLModel",
            "_view_count": null,
            "_view_module": "@jupyter-widgets/controls",
            "_view_module_version": "1.5.0",
            "_view_name": "HTMLView",
            "description": "",
            "description_tooltip": null,
            "layout": "IPY_MODEL_2390e9b1076342bd9ded4bdc9ca7a7e0",
            "placeholder": "​",
            "style": "IPY_MODEL_d54cc98aa3754403aa107e59b4d36d79",
            "value": "Downloading shards: 100%"
          }
        },
        "9d31219cf6e8400799ee0bce257de993": {
          "model_module": "@jupyter-widgets/controls",
          "model_module_version": "1.5.0",
          "model_name": "ProgressStyleModel",
          "state": {
            "_model_module": "@jupyter-widgets/controls",
            "_model_module_version": "1.5.0",
            "_model_name": "ProgressStyleModel",
            "_view_count": null,
            "_view_module": "@jupyter-widgets/base",
            "_view_module_version": "1.2.0",
            "_view_name": "StyleView",
            "bar_color": null,
            "description_width": ""
          }
        },
        "a8ec8d99fe164f09aca00b6279e530b2": {
          "model_module": "@jupyter-widgets/controls",
          "model_module_version": "1.5.0",
          "model_name": "HTMLModel",
          "state": {
            "_dom_classes": [],
            "_model_module": "@jupyter-widgets/controls",
            "_model_module_version": "1.5.0",
            "_model_name": "HTMLModel",
            "_view_count": null,
            "_view_module": "@jupyter-widgets/controls",
            "_view_module_version": "1.5.0",
            "_view_name": "HTMLView",
            "description": "",
            "description_tooltip": null,
            "layout": "IPY_MODEL_b3cfc19280204c618567a5d53a9e0c2a",
            "placeholder": "​",
            "style": "IPY_MODEL_ab0581964e514cf089ebb39bd6682698",
            "value": " 8/8 [00:00&lt;00:00, 17.90it/s]"
          }
        },
        "ab0581964e514cf089ebb39bd6682698": {
          "model_module": "@jupyter-widgets/controls",
          "model_module_version": "1.5.0",
          "model_name": "DescriptionStyleModel",
          "state": {
            "_model_module": "@jupyter-widgets/controls",
            "_model_module_version": "1.5.0",
            "_model_name": "DescriptionStyleModel",
            "_view_count": null,
            "_view_module": "@jupyter-widgets/base",
            "_view_module_version": "1.2.0",
            "_view_name": "StyleView",
            "description_width": ""
          }
        },
        "aeff00666de84d138260d96811418d09": {
          "model_module": "@jupyter-widgets/controls",
          "model_module_version": "1.5.0",
          "model_name": "FloatProgressModel",
          "state": {
            "_dom_classes": [],
            "_model_module": "@jupyter-widgets/controls",
            "_model_module_version": "1.5.0",
            "_model_name": "FloatProgressModel",
            "_view_count": null,
            "_view_module": "@jupyter-widgets/controls",
            "_view_module_version": "1.5.0",
            "_view_name": "ProgressView",
            "bar_style": "",
            "description": "",
            "description_tooltip": null,
            "layout": "IPY_MODEL_34e48eaa77574050aa0aecf24d996190",
            "max": 8,
            "min": 0,
            "orientation": "horizontal",
            "style": "IPY_MODEL_9d31219cf6e8400799ee0bce257de993",
            "value": 1
          }
        },
        "b3cfc19280204c618567a5d53a9e0c2a": {
          "model_module": "@jupyter-widgets/base",
          "model_module_version": "1.2.0",
          "model_name": "LayoutModel",
          "state": {
            "_model_module": "@jupyter-widgets/base",
            "_model_module_version": "1.2.0",
            "_model_name": "LayoutModel",
            "_view_count": null,
            "_view_module": "@jupyter-widgets/base",
            "_view_module_version": "1.2.0",
            "_view_name": "LayoutView",
            "align_content": null,
            "align_items": null,
            "align_self": null,
            "border": null,
            "bottom": null,
            "display": null,
            "flex": null,
            "flex_flow": null,
            "grid_area": null,
            "grid_auto_columns": null,
            "grid_auto_flow": null,
            "grid_auto_rows": null,
            "grid_column": null,
            "grid_gap": null,
            "grid_row": null,
            "grid_template_areas": null,
            "grid_template_columns": null,
            "grid_template_rows": null,
            "height": null,
            "justify_content": null,
            "justify_items": null,
            "left": null,
            "margin": null,
            "max_height": null,
            "max_width": null,
            "min_height": null,
            "min_width": null,
            "object_fit": null,
            "object_position": null,
            "order": null,
            "overflow": null,
            "overflow_x": null,
            "overflow_y": null,
            "padding": null,
            "right": null,
            "top": null,
            "visibility": null,
            "width": null
          }
        },
        "c4060959e83c4d419b6890a0465d63dd": {
          "model_module": "@jupyter-widgets/controls",
          "model_module_version": "1.5.0",
          "model_name": "DescriptionStyleModel",
          "state": {
            "_model_module": "@jupyter-widgets/controls",
            "_model_module_version": "1.5.0",
            "_model_name": "DescriptionStyleModel",
            "_view_count": null,
            "_view_module": "@jupyter-widgets/base",
            "_view_module_version": "1.2.0",
            "_view_name": "StyleView",
            "description_width": ""
          }
        },
        "d54cc98aa3754403aa107e59b4d36d79": {
          "model_module": "@jupyter-widgets/controls",
          "model_module_version": "1.5.0",
          "model_name": "DescriptionStyleModel",
          "state": {
            "_model_module": "@jupyter-widgets/controls",
            "_model_module_version": "1.5.0",
            "_model_name": "DescriptionStyleModel",
            "_view_count": null,
            "_view_module": "@jupyter-widgets/base",
            "_view_module_version": "1.2.0",
            "_view_name": "StyleView",
            "description_width": ""
          }
        },
        "d9848c662a14486ab41cf2d3bfe0f71f": {
          "model_module": "@jupyter-widgets/controls",
          "model_module_version": "1.5.0",
          "model_name": "ProgressStyleModel",
          "state": {
            "_model_module": "@jupyter-widgets/controls",
            "_model_module_version": "1.5.0",
            "_model_name": "ProgressStyleModel",
            "_view_count": null,
            "_view_module": "@jupyter-widgets/base",
            "_view_module_version": "1.2.0",
            "_view_name": "StyleView",
            "bar_color": null,
            "description_width": ""
          }
        },
        "e1b53ca0ce22484eaca68fea4bed2e79": {
          "model_module": "@jupyter-widgets/controls",
          "model_module_version": "1.5.0",
          "model_name": "FloatProgressModel",
          "state": {
            "_dom_classes": [],
            "_model_module": "@jupyter-widgets/controls",
            "_model_module_version": "1.5.0",
            "_model_name": "FloatProgressModel",
            "_view_count": null,
            "_view_module": "@jupyter-widgets/controls",
            "_view_module_version": "1.5.0",
            "_view_name": "ProgressView",
            "bar_style": "success",
            "description": "",
            "description_tooltip": null,
            "layout": "IPY_MODEL_0c608f80210f4395bd567526d7a2c4cd",
            "max": 8,
            "min": 0,
            "orientation": "horizontal",
            "style": "IPY_MODEL_d9848c662a14486ab41cf2d3bfe0f71f",
            "value": 8
          }
        },
        "eef5c12738024686888c8c100f9480c8": {
          "model_module": "@jupyter-widgets/base",
          "model_module_version": "1.2.0",
          "model_name": "LayoutModel",
          "state": {
            "_model_module": "@jupyter-widgets/base",
            "_model_module_version": "1.2.0",
            "_model_name": "LayoutModel",
            "_view_count": null,
            "_view_module": "@jupyter-widgets/base",
            "_view_module_version": "1.2.0",
            "_view_name": "LayoutView",
            "align_content": null,
            "align_items": null,
            "align_self": null,
            "border": null,
            "bottom": null,
            "display": null,
            "flex": null,
            "flex_flow": null,
            "grid_area": null,
            "grid_auto_columns": null,
            "grid_auto_flow": null,
            "grid_auto_rows": null,
            "grid_column": null,
            "grid_gap": null,
            "grid_row": null,
            "grid_template_areas": null,
            "grid_template_columns": null,
            "grid_template_rows": null,
            "height": null,
            "justify_content": null,
            "justify_items": null,
            "left": null,
            "margin": null,
            "max_height": null,
            "max_width": null,
            "min_height": null,
            "min_width": null,
            "object_fit": null,
            "object_position": null,
            "order": null,
            "overflow": null,
            "overflow_x": null,
            "overflow_y": null,
            "padding": null,
            "right": null,
            "top": null,
            "visibility": null,
            "width": null
          }
        },
        "f263aaf302ab473cbc92906a2f21a13d": {
          "model_module": "@jupyter-widgets/controls",
          "model_module_version": "1.5.0",
          "model_name": "HBoxModel",
          "state": {
            "_dom_classes": [],
            "_model_module": "@jupyter-widgets/controls",
            "_model_module_version": "1.5.0",
            "_model_name": "HBoxModel",
            "_view_count": null,
            "_view_module": "@jupyter-widgets/controls",
            "_view_module_version": "1.5.0",
            "_view_name": "HBoxView",
            "box_style": "",
            "children": [
              "IPY_MODEL_342fc79fd4a448f2821ffbdea4c0f910",
              "IPY_MODEL_aeff00666de84d138260d96811418d09",
              "IPY_MODEL_6598c796e3f744d3b4355886e67cbfda"
            ],
            "layout": "IPY_MODEL_fcd7a6f57f3748fdb443123abe69f3d5"
          }
        },
        "fcd7a6f57f3748fdb443123abe69f3d5": {
          "model_module": "@jupyter-widgets/base",
          "model_module_version": "1.2.0",
          "model_name": "LayoutModel",
          "state": {
            "_model_module": "@jupyter-widgets/base",
            "_model_module_version": "1.2.0",
            "_model_name": "LayoutModel",
            "_view_count": null,
            "_view_module": "@jupyter-widgets/base",
            "_view_module_version": "1.2.0",
            "_view_name": "LayoutView",
            "align_content": null,
            "align_items": null,
            "align_self": null,
            "border": null,
            "bottom": null,
            "display": null,
            "flex": null,
            "flex_flow": null,
            "grid_area": null,
            "grid_auto_columns": null,
            "grid_auto_flow": null,
            "grid_auto_rows": null,
            "grid_column": null,
            "grid_gap": null,
            "grid_row": null,
            "grid_template_areas": null,
            "grid_template_columns": null,
            "grid_template_rows": null,
            "height": null,
            "justify_content": null,
            "justify_items": null,
            "left": null,
            "margin": null,
            "max_height": null,
            "max_width": null,
            "min_height": null,
            "min_width": null,
            "object_fit": null,
            "object_position": null,
            "order": null,
            "overflow": null,
            "overflow_x": null,
            "overflow_y": null,
            "padding": null,
            "right": null,
            "top": null,
            "visibility": null,
            "width": null
          }
        }
      }
    }
  },
  "nbformat": 4,
  "nbformat_minor": 0
}
